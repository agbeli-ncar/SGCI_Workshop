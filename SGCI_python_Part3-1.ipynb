{
 "cells": [
  {
   "cell_type": "markdown",
   "metadata": {},
   "source": [
    "## Introduction to Python in HPC - NYC Power Sector P3"
   ]
  },
  {
   "cell_type": "markdown",
   "metadata": {},
   "source": [
    "### Introduction\n",
    "\n",
    "* In this notebook we look at historical electric load (or demand) data for New York City in 2020.\n",
    "\n",
    "* Often times your first step to examining research questions is to start with historical data analysis. This give you an opportunity to explore the data and \"get a feel\" for how it behaves  over time and when analyszed with other variables. \n",
    "\n",
    "* Here we look at historical electric load data for the New York City area acquired from the New York Independent System Operator (NYISO). The role of the NYISO is to coordinate, control, and monitor the operation of the electrical power system, usually within a single US state, but sometimes encompassing multiple states. Here, we have the most recent data for 2020.\n",
    "* By looking at this data can you tell if the covid-19 shutdown impacted the amount of power used in NYC? How big was the power drop off? Also keep in mind their maybe seasonal effects. Furthermore, electricity load is highly impacted by temperature as well as economic activity among other factors. The previous 5 years of load data is included and other related data such as wholesale power prices can be found on NYISO site. \n"
   ]
  },
  {
   "cell_type": "markdown",
   "metadata": {},
   "source": [
    "### Exploring Data and Analysis with NumPy and Pandas"
   ]
  },
  {
   "cell_type": "code",
   "execution_count": 2,
   "metadata": {},
   "outputs": [],
   "source": [
    "#\n",
    "# Import NumPy and Pandas library for dataset exploration. Now we use read_csv function from pandas to smoothly pull \n",
    "# in the historical time series data. This is a dataframe which in this case is a 2D timeseries that is indexed by date.\n",
    "#The column names are on top row and is automatically pulled into the dataframe from pandas.\n",
    "#\n",
    "# \n",
    "\n",
    "import numpy as np\n",
    "import pandas as pd\n",
    "from datetime import datetime, timedelta\n",
    "from matplotlib import pyplot as plt\n",
    "NYC_Load_2020 = pd.read_csv('OASIS_Real_Time_Dispatch_Actual_Load_RecentYear061419_06142020.csv', delimiter = ',')\n",
    "#NYC_load_2020['RTD End Time Stamp'] = pd.to_datetime(df['time'])"
   ]
  },
  {
   "cell_type": "code",
   "execution_count": 3,
   "metadata": {},
   "outputs": [
    {
     "data": {
      "text/plain": [
       "(107437, 4)"
      ]
     },
     "execution_count": 3,
     "metadata": {},
     "output_type": "execute_result"
    }
   ],
   "source": [
    "#\n",
    "# The shape of the array will print the dimension of the array. For example,\n",
    "# this is a two dimensional array of 2012 rows and 8 columns (n,m)\n",
    "#\n",
    "NYC_Load_2020.shape"
   ]
  },
  {
   "cell_type": "code",
   "execution_count": 4,
   "metadata": {},
   "outputs": [
    {
     "data": {
      "text/html": [
       "<div>\n",
       "<style scoped>\n",
       "    .dataframe tbody tr th:only-of-type {\n",
       "        vertical-align: middle;\n",
       "    }\n",
       "\n",
       "    .dataframe tbody tr th {\n",
       "        vertical-align: top;\n",
       "    }\n",
       "\n",
       "    .dataframe thead th {\n",
       "        text-align: right;\n",
       "    }\n",
       "</style>\n",
       "<table border=\"1\" class=\"dataframe\">\n",
       "  <thead>\n",
       "    <tr style=\"text-align: right;\">\n",
       "      <th></th>\n",
       "      <th>RTD End Time Stamp</th>\n",
       "      <th>Zone Name</th>\n",
       "      <th>Zone PTID</th>\n",
       "      <th>RTD Actual Load</th>\n",
       "    </tr>\n",
       "  </thead>\n",
       "  <tbody>\n",
       "    <tr>\n",
       "      <th>0</th>\n",
       "      <td>2019/06/14 00:05:00</td>\n",
       "      <td>N.Y.C.</td>\n",
       "      <td>61761</td>\n",
       "      <td>4842.3</td>\n",
       "    </tr>\n",
       "    <tr>\n",
       "      <th>1</th>\n",
       "      <td>2019/06/14 00:10:00</td>\n",
       "      <td>N.Y.C.</td>\n",
       "      <td>61761</td>\n",
       "      <td>4805.5</td>\n",
       "    </tr>\n",
       "    <tr>\n",
       "      <th>2</th>\n",
       "      <td>2019/06/14 00:15:00</td>\n",
       "      <td>N.Y.C.</td>\n",
       "      <td>61761</td>\n",
       "      <td>4805.2</td>\n",
       "    </tr>\n",
       "    <tr>\n",
       "      <th>3</th>\n",
       "      <td>2019/06/14 00:20:00</td>\n",
       "      <td>N.Y.C.</td>\n",
       "      <td>61761</td>\n",
       "      <td>4773.7</td>\n",
       "    </tr>\n",
       "    <tr>\n",
       "      <th>4</th>\n",
       "      <td>2019/06/14 00:25:00</td>\n",
       "      <td>N.Y.C.</td>\n",
       "      <td>61761</td>\n",
       "      <td>4738.6</td>\n",
       "    </tr>\n",
       "    <tr>\n",
       "      <th>5</th>\n",
       "      <td>2019/06/14 00:30:00</td>\n",
       "      <td>N.Y.C.</td>\n",
       "      <td>61761</td>\n",
       "      <td>4716.8</td>\n",
       "    </tr>\n",
       "    <tr>\n",
       "      <th>6</th>\n",
       "      <td>2019/06/14 00:35:00</td>\n",
       "      <td>N.Y.C.</td>\n",
       "      <td>61761</td>\n",
       "      <td>4685.1</td>\n",
       "    </tr>\n",
       "    <tr>\n",
       "      <th>7</th>\n",
       "      <td>2019/06/14 00:40:00</td>\n",
       "      <td>N.Y.C.</td>\n",
       "      <td>61761</td>\n",
       "      <td>4662.2</td>\n",
       "    </tr>\n",
       "    <tr>\n",
       "      <th>8</th>\n",
       "      <td>2019/06/14 00:45:00</td>\n",
       "      <td>N.Y.C.</td>\n",
       "      <td>61761</td>\n",
       "      <td>4650.8</td>\n",
       "    </tr>\n",
       "    <tr>\n",
       "      <th>9</th>\n",
       "      <td>2019/06/14 00:50:00</td>\n",
       "      <td>N.Y.C.</td>\n",
       "      <td>61761</td>\n",
       "      <td>4630.8</td>\n",
       "    </tr>\n",
       "  </tbody>\n",
       "</table>\n",
       "</div>"
      ],
      "text/plain": [
       "    RTD End Time Stamp Zone Name  Zone PTID  RTD Actual Load\n",
       "0  2019/06/14 00:05:00    N.Y.C.      61761           4842.3\n",
       "1  2019/06/14 00:10:00    N.Y.C.      61761           4805.5\n",
       "2  2019/06/14 00:15:00    N.Y.C.      61761           4805.2\n",
       "3  2019/06/14 00:20:00    N.Y.C.      61761           4773.7\n",
       "4  2019/06/14 00:25:00    N.Y.C.      61761           4738.6\n",
       "5  2019/06/14 00:30:00    N.Y.C.      61761           4716.8\n",
       "6  2019/06/14 00:35:00    N.Y.C.      61761           4685.1\n",
       "7  2019/06/14 00:40:00    N.Y.C.      61761           4662.2\n",
       "8  2019/06/14 00:45:00    N.Y.C.      61761           4650.8\n",
       "9  2019/06/14 00:50:00    N.Y.C.      61761           4630.8"
      ]
     },
     "execution_count": 4,
     "metadata": {},
     "output_type": "execute_result"
    }
   ],
   "source": [
    "#\n",
    "# With Pandas dates and types are automatically understood and built into the data frame\n",
    "#\n",
    "NYC_Load_2020.head(10)"
   ]
  },
  {
   "cell_type": "code",
   "execution_count": 5,
   "metadata": {},
   "outputs": [
    {
     "data": {
      "text/plain": [
       "RangeIndex(start=0, stop=107437, step=1)"
      ]
     },
     "execution_count": 5,
     "metadata": {},
     "output_type": "execute_result"
    }
   ],
   "source": [
    "NYC_Load_2020.index"
   ]
  },
  {
   "cell_type": "code",
   "execution_count": 6,
   "metadata": {
    "scrolled": true
   },
   "outputs": [
    {
     "name": "stdout",
     "output_type": "stream",
     "text": [
      "0         4842.3\n",
      "1         4805.5\n",
      "2         4805.2\n",
      "3         4773.7\n",
      "4         4738.6\n",
      "5         4716.8\n",
      "6         4685.1\n",
      "7         4662.2\n",
      "8         4650.8\n",
      "9         4630.8\n",
      "10        4616.6\n",
      "11        4591.9\n",
      "12        4557.0\n",
      "13        4548.8\n",
      "14        4512.8\n",
      "15        4509.5\n",
      "16        4485.6\n",
      "17        4475.9\n",
      "18        4464.1\n",
      "19        4449.7\n",
      "20        4424.8\n",
      "21        4428.8\n",
      "22        4412.1\n",
      "23        4397.1\n",
      "24        4366.9\n",
      "25        4376.8\n",
      "26        4366.4\n",
      "27        4329.5\n",
      "28        4311.4\n",
      "29        4314.7\n",
      "           ...  \n",
      "107407    4823.3\n",
      "107408    4830.8\n",
      "107409    4842.4\n",
      "107410    4825.8\n",
      "107411    4856.1\n",
      "107412    4860.6\n",
      "107413    4893.0\n",
      "107414    4861.2\n",
      "107415    4888.1\n",
      "107416    4864.1\n",
      "107417    4887.5\n",
      "107418    4888.8\n",
      "107419    4902.6\n",
      "107420    4876.8\n",
      "107421    4895.6\n",
      "107422    4885.5\n",
      "107423    4896.0\n",
      "107424    4925.5\n",
      "107425    4927.1\n",
      "107426    4899.1\n",
      "107427    4911.9\n",
      "107428    4907.3\n",
      "107429    4918.3\n",
      "107430    4950.3\n",
      "107431    4925.1\n",
      "107432    4941.9\n",
      "107433    4922.5\n",
      "107434    4937.4\n",
      "107435    4952.1\n",
      "107436       NaN\n",
      "Name: RTD Actual Load, Length: 107437, dtype: float64\n"
     ]
    }
   ],
   "source": [
    "#\n",
    "# Print out the main variable of interest, which in this case, is the Load.\n",
    "# \n",
    "print(NYC_Load_2020['RTD Actual Load'])"
   ]
  },
  {
   "cell_type": "code",
   "execution_count": 7,
   "metadata": {},
   "outputs": [],
   "source": [
    "#\n",
    "# To plot this define the X and Y\n",
    "#\n",
    "X = NYC_Load_2020[\"RTD End Time Stamp\"]\n",
    "Y = NYC_Load_2020[\"RTD Actual Load\"]"
   ]
  },
  {
   "cell_type": "code",
   "execution_count": 8,
   "metadata": {},
   "outputs": [
    {
     "data": {
      "text/plain": [
       "0    2019/06/14 00:05:00\n",
       "1    2019/06/14 00:10:00\n",
       "2    2019/06/14 00:15:00\n",
       "3    2019/06/14 00:20:00\n",
       "4    2019/06/14 00:25:00\n",
       "Name: RTD End Time Stamp, dtype: object"
      ]
     },
     "execution_count": 8,
     "metadata": {},
     "output_type": "execute_result"
    }
   ],
   "source": [
    "X.head()"
   ]
  },
  {
   "cell_type": "code",
   "execution_count": 9,
   "metadata": {},
   "outputs": [
    {
     "data": {
      "text/plain": [
       "0    4842.3\n",
       "1    4805.5\n",
       "2    4805.2\n",
       "3    4773.7\n",
       "4    4738.6\n",
       "Name: RTD Actual Load, dtype: float64"
      ]
     },
     "execution_count": 9,
     "metadata": {},
     "output_type": "execute_result"
    }
   ],
   "source": [
    "Y.head()"
   ]
  },
  {
   "cell_type": "code",
   "execution_count": 10,
   "metadata": {},
   "outputs": [
    {
     "data": {
      "text/plain": [
       "count                  107437\n",
       "unique                 107425\n",
       "top       2019/11/03 01:00:00\n",
       "freq                        2\n",
       "Name: RTD End Time Stamp, dtype: object"
      ]
     },
     "execution_count": 10,
     "metadata": {},
     "output_type": "execute_result"
    }
   ],
   "source": [
    "X.describe()"
   ]
  },
  {
   "cell_type": "code",
   "execution_count": 11,
   "metadata": {},
   "outputs": [
    {
     "data": {
      "text/plain": [
       "count    107428.000000\n",
       "mean       5719.047416\n",
       "std        1313.503008\n",
       "min        3589.200000\n",
       "25%        4709.900000\n",
       "50%        5539.650000\n",
       "75%        6359.200000\n",
       "max       10845.300000\n",
       "Name: RTD Actual Load, dtype: float64"
      ]
     },
     "execution_count": 11,
     "metadata": {},
     "output_type": "execute_result"
    }
   ],
   "source": [
    "Y.describe()"
   ]
  },
  {
   "cell_type": "markdown",
   "metadata": {},
   "source": [
    "This line must be included in order to show the plot."
   ]
  },
  {
   "cell_type": "code",
   "execution_count": 12,
   "metadata": {},
   "outputs": [],
   "source": [
    "%matplotlib inline"
   ]
  },
  {
   "cell_type": "markdown",
   "metadata": {},
   "source": [
    "# The Pandas `dataframe.plot()` way"
   ]
  },
  {
   "cell_type": "code",
   "execution_count": 13,
   "metadata": {},
   "outputs": [
    {
     "data": {
      "text/plain": [
       "<matplotlib.axes._subplots.AxesSubplot at 0x115a0c7b8>"
      ]
     },
     "execution_count": 13,
     "metadata": {},
     "output_type": "execute_result"
    },
    {
     "data": {
      "image/png": "[encoded data removed]",
      "text/plain": [
       "<Figure size 432x288 with 1 Axes>"
      ]
     },
     "metadata": {
      "needs_background": "light"
     },
     "output_type": "display_data"
    }
   ],
   "source": [
    "NYC_Load_2020.plot('RTD End Time Stamp', 'RTD Actual Load', title=\"NYC ISO Electricity Load MW\")"
   ]
  },
  {
   "cell_type": "markdown",
   "metadata": {},
   "source": [
    "## 2500 data points with labeling"
   ]
  },
  {
   "cell_type": "code",
   "execution_count": 14,
   "metadata": {},
   "outputs": [
    {
     "data": {
      "image/png": "[encoded data removed]",
      "text/plain": [
       "<Figure size 432x288 with 1 Axes>"
      ]
     },
     "metadata": {
      "needs_background": "light"
     },
     "output_type": "display_data"
    }
   ],
   "source": [
    "ax = NYC_Load_2020[:2500].plot('RTD End Time Stamp', 'RTD Actual Load', title=\"NYC ISO Electricity Load MW\")\n",
    "ax.set_xlabel(\"Date Time Stamp\") \n",
    "ax.set_ylabel(\"RTD Actual Load\") \n",
    "ax.set_xticklabels(NYC_Load_2020[:1000]['RTD End Time Stamp'], rotation=45, ha='right')\n",
    "pass"
   ]
  },
  {
   "cell_type": "markdown",
   "metadata": {},
   "source": [
    "# The Matplotlib `plt` way"
   ]
  },
  {
   "cell_type": "markdown",
   "metadata": {},
   "source": [
    "## 1000 data points"
   ]
  },
  {
   "cell_type": "code",
   "execution_count": 15,
   "metadata": {},
   "outputs": [
    {
     "data": {
      "image/png": "[encoded data removed]",
      "text/plain": [
       "<Figure size 432x288 with 1 Axes>"
      ]
     },
     "metadata": {
      "needs_background": "light"
     },
     "output_type": "display_data"
    }
   ],
   "source": [
    "plt.title(\"NYC ISO Electricity Load MW\") \n",
    "plt.xlabel(\"Date Time Stamp\") \n",
    "plt.ylabel(\"RTD Actual Load\") \n",
    "plt.plot(X[:1000], Y[:1000]) \n",
    "plt.show() "
   ]
  },
  {
   "cell_type": "markdown",
   "metadata": {},
   "source": [
    "### Indexing Arrays"
   ]
  },
  {
   "cell_type": "code",
   "execution_count": null,
   "metadata": {},
   "outputs": [],
   "source": [
    "\n"
   ]
  },
  {
   "cell_type": "code",
   "execution_count": null,
   "metadata": {},
   "outputs": [],
   "source": []
  },
  {
   "cell_type": "code",
   "execution_count": null,
   "metadata": {},
   "outputs": [],
   "source": []
  },
  {
   "cell_type": "code",
   "execution_count": null,
   "metadata": {},
   "outputs": [],
   "source": []
  },
  {
   "cell_type": "markdown",
   "metadata": {},
   "source": [
    "### Plotting and Pandas"
   ]
  },
  {
   "cell_type": "code",
   "execution_count": null,
   "metadata": {},
   "outputs": [],
   "source": []
  },
  {
   "cell_type": "code",
   "execution_count": null,
   "metadata": {},
   "outputs": [],
   "source": []
  }
 ],
 "metadata": {
  "kernelspec": {
   "display_name": "Python 3",
   "language": "python",
   "name": "python3"
  },
  "language_info": {
   "codemirror_mode": {
    "name": "ipython",
    "version": 3
   },
   "file_extension": ".py",
   "mimetype": "text/x-python",
   "name": "python",
   "nbconvert_exporter": "python",
   "pygments_lexer": "ipython3",
   "version": "3.6.7"
  }
 },
 "nbformat": 4,
 "nbformat_minor": 4
}
