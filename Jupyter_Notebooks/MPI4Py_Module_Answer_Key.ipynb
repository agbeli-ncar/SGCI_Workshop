{
 "cells": [
  {
   "cell_type": "code",
   "execution_count": 1,
   "metadata": {},
   "outputs": [],
   "source": [
    "# This is the background \n",
    "from mpi4py import MPI\n",
    "import numpy as np\n",
    "import time\n",
    "\n",
    "\n",
    "comm = MPI.COMM_WORLD\n",
    "size = comm.Get_size()\n",
    "rank = comm.Get_rank()\n",
    "init_time = time.time()  \n",
    "\n",
    "#print('Hello, I am process', rank+1, 'of', size)"
   ]
  },
  {
   "cell_type": "code",
   "execution_count": 2,
   "metadata": {},
   "outputs": [],
   "source": [
    "N = 50000000\n",
    "array = np.ndarray.tolist(np.arange(N+1))"
   ]
  },
  {
   "cell_type": "code",
   "execution_count": 3,
   "metadata": {},
   "outputs": [],
   "source": [
    "#Solution\n",
    "\n",
    "start_index = int(N * rank / size + 1)\n",
    "end_index   = int(N * (rank +1)  / size) + 1\n",
    "partial_sum = sum(array[start_index:end_index])"
   ]
  },
  {
   "cell_type": "code",
   "execution_count": 5,
   "metadata": {},
   "outputs": [
    {
     "ename": "NameError",
     "evalue": "name 'init_time' is not defined",
     "output_type": "error",
     "traceback": [
      "\u001b[0;31m---------------------------------------------------------------------------\u001b[0m",
      "\u001b[0;31mNameError\u001b[0m                                 Traceback (most recent call last)",
      "\u001b[0;32m<ipython-input-5-fb49dc68c318>\u001b[0m in \u001b[0;36m<module>\u001b[0;34m\u001b[0m\n\u001b[1;32m     13\u001b[0m                 \u001b[0mtime_received\u001b[0m\u001b[0;34m[\u001b[0m\u001b[0mi\u001b[0m\u001b[0;34m]\u001b[0m \u001b[0;34m=\u001b[0m \u001b[0mcomm\u001b[0m\u001b[0;34m.\u001b[0m\u001b[0mrecv\u001b[0m\u001b[0;34m(\u001b[0m\u001b[0msource\u001b[0m \u001b[0;34m=\u001b[0m \u001b[0mi\u001b[0m\u001b[0;34m,\u001b[0m \u001b[0mtag\u001b[0m \u001b[0;34m=\u001b[0m \u001b[0msize\u001b[0m\u001b[0;34m+\u001b[0m\u001b[0mi\u001b[0m\u001b[0;34m)\u001b[0m\u001b[0;34m\u001b[0m\u001b[0m\n\u001b[1;32m     14\u001b[0m         \u001b[0mdata_received\u001b[0m\u001b[0;34m[\u001b[0m\u001b[0;36m0\u001b[0m\u001b[0;34m]\u001b[0m \u001b[0;34m=\u001b[0m \u001b[0mpartial_sum\u001b[0m\u001b[0;34m\u001b[0m\u001b[0m\n\u001b[0;32m---> 15\u001b[0;31m         \u001b[0mtime_received\u001b[0m\u001b[0;34m[\u001b[0m\u001b[0;36m0\u001b[0m\u001b[0;34m]\u001b[0m \u001b[0;34m=\u001b[0m \u001b[0mtime\u001b[0m\u001b[0;34m.\u001b[0m\u001b[0mtime\u001b[0m\u001b[0;34m(\u001b[0m\u001b[0;34m)\u001b[0m\u001b[0;34m-\u001b[0m\u001b[0minit_time\u001b[0m\u001b[0;34m\u001b[0m\u001b[0m\n\u001b[0m\u001b[1;32m     16\u001b[0m \u001b[0;34m\u001b[0m\u001b[0m\n\u001b[1;32m     17\u001b[0m         \u001b[0mprint\u001b[0m\u001b[0;34m(\u001b[0m\u001b[0;34m'Your array is '\u001b[0m\u001b[0;34m,\u001b[0m \u001b[0mdata_received\u001b[0m\u001b[0;34m)\u001b[0m\u001b[0;34m\u001b[0m\u001b[0m\n",
      "\u001b[0;31mNameError\u001b[0m: name 'init_time' is not defined"
     ]
    }
   ],
   "source": [
    "partial_sum = sum(array[start_index:end_index])\n",
    "\n",
    "if rank!= 0:\n",
    "        comm.send(partial_sum,dest=0,tag=rank)\n",
    "        comm.send((time.time() - init_time), dest = 0, tag = size+rank)\n",
    "\n",
    "else:\n",
    "        data_received = np.ndarray.tolist(np.arange(1,size+1))\n",
    "        time_received = np.ndarray.tolist(np.arange(1,size+1))\n",
    "\n",
    "        for i in list(range(1,size)):\n",
    "                data_received[i] = comm.recv(source = i, tag = i)\n",
    "                time_received[i] = comm.recv(source = i, tag = size+i)\n",
    "        data_received[0] = partial_sum\n",
    "        time_received[0] = time.time()-init_time\n",
    "\n",
    "        print('Your array is ', data_received)\n",
    "        print('The sum of your array is ', sum(data_received))\n",
    "        print('The total time to calculate the sum was', (time.time()-init_time))\n",
    "\n",
    "        for i in list(range(0,size)):\n",
    "                print('Node', i, 'took ', time_received[i], ' seconds')"
   ]
  },
  {
   "cell_type": "code",
   "execution_count": null,
   "metadata": {},
   "outputs": [],
   "source": [
    "\"\"\"This script creates an N-dimensional array and\n",
    "calculates the sum of the elements in parallel with Mpi4py.\"\"\"\n",
    "\n",
    "#Load modules\n",
    "from mpi4py import MPI\n",
    "import numpy as np\n",
    "import time\n",
    "\n",
    "#Initialization\n",
    "comm = MPI.COMM_WORLD       # Setting up communication pr//otocol\n",
    "size = comm.Get_size()      # Extracting the number of processes\n",
    "rank = comm.Get_rank()      # Identifying individual processes\n",
    "init_time = time.time()     \n",
    "N = 50000000\n",
    "array = np.ndarray.tolist(np.arange(N+1))\n",
    "\n",
    "\n",
    "start_index = int(N * rank / size + 1)\n",
    "end_index   = int(N * (rank +1)  / size) + 1\n",
    "\n",
    "partial_sum = sum(array[start_index:end_index])\n",
    "\n",
    "if rank!= 0:\n",
    "    comm.send(partial_sum,dest=0,tag=rank)\n",
    "    comm.send((time.time() - init_time), dest = 0, tag = size+rank)\n",
    "\n",
    "else:\n",
    "    data_received = np.ndarray.tolist(np.arange(1,size+1))\n",
    "    time_received = np.ndarray.tolist(np.arange(1,size+1))\n",
    "\n",
    "    for i in list(range(1,size)):\n",
    "        data_received[i] = comm.recv(source = i, tag = i)\n",
    "        time_received[i] = comm.recv(source = i, tag = size+i)\n",
    "    data_received[0] = partial_sum\n",
    "    time_received[0] = time.time()-init_time\n",
    "\n",
    "    print('Your array is ', data_received) \n",
    "    print('The sum of your array is ', sum(data_received))\n",
    "    print('The total time to calculate the sum was', (time.time()-init_time))\n",
    "\n",
    "    for i in list(range(0,size)):\n",
    "        print('Node', i, 'took ', time_received[i], ' seconds') \n"
   ]
  }
 ],
 "metadata": {
  "kernelspec": {
   "display_name": "Python 3",
   "language": "python",
   "name": "python3"
  },
  "language_info": {
   "codemirror_mode": {
    "name": "ipython",
    "version": 3
   },
   "file_extension": ".py",
   "mimetype": "text/x-python",
   "name": "python",
   "nbconvert_exporter": "python",
   "pygments_lexer": "ipython3",
   "version": "3.7.0"
  }
 },
 "nbformat": 4,
 "nbformat_minor": 2
}
