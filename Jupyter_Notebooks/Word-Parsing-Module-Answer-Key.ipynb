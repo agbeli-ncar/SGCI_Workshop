{
 "cells": [
  {
   "cell_type": "code",
   "execution_count": 3,
   "metadata": {},
   "outputs": [
    {
     "name": "stdout",
     "output_type": "stream",
     "text": [
      "['BooleanDtype', 'Categorical', 'CategoricalDtype', 'CategoricalIndex', 'DataFrame', 'DateOffset', 'DatetimeIndex', 'DatetimeTZDtype', 'ExcelFile', 'ExcelWriter', 'Float64Index', 'Grouper', 'HDFStore', 'Index', 'IndexSlice', 'Int16Dtype', 'Int32Dtype', 'Int64Dtype', 'Int64Index', 'Int8Dtype', 'Interval', 'IntervalDtype', 'IntervalIndex', 'MultiIndex', 'NA', 'NaT', 'NamedAgg', 'Period', 'PeriodDtype', 'PeriodIndex', 'RangeIndex', 'Series', 'SparseDtype', 'StringDtype', 'Timedelta', 'TimedeltaIndex', 'Timestamp', 'UInt16Dtype', 'UInt32Dtype', 'UInt64Dtype', 'UInt64Index', 'UInt8Dtype', '__builtins__', '__cached__', '__doc__', '__docformat__', '__file__', '__getattr__', '__git_version__', '__loader__', '__name__', '__package__', '__path__', '__spec__', '__version__', '_config', '_hashtable', '_is_numpy_dev', '_lib', '_libs', '_np_version_under1p14', '_np_version_under1p15', '_np_version_under1p16', '_np_version_under1p17', '_np_version_under1p18', '_testing', '_tslib', '_typing', '_version', 'api', 'array', 'arrays', 'bdate_range', 'compat', 'concat', 'core', 'crosstab', 'cut', 'date_range', 'describe_option', 'errors', 'eval', 'factorize', 'get_dummies', 'get_option', 'infer_freq', 'interval_range', 'io', 'isna', 'isnull', 'json_normalize', 'lreshape', 'melt', 'merge', 'merge_asof', 'merge_ordered', 'notna', 'notnull', 'offsets', 'option_context', 'options', 'pandas', 'period_range', 'pivot', 'pivot_table', 'plotting', 'qcut', 'read_clipboard', 'read_csv', 'read_excel', 'read_feather', 'read_fwf', 'read_gbq', 'read_hdf', 'read_html', 'read_json', 'read_orc', 'read_parquet', 'read_pickle', 'read_sas', 'read_spss', 'read_sql', 'read_sql_query', 'read_sql_table', 'read_stata', 'read_table', 'reset_option', 'set_eng_float_format', 'set_option', 'show_versions', 'test', 'testing', 'timedelta_range', 'to_datetime', 'to_numeric', 'to_pickle', 'to_timedelta', 'tseries', 'unique', 'util', 'value_counts', 'wide_to_long']\n"
     ]
    }
   ],
   "source": [
    "#Section 1 answer key Find the top 10 tweets from the dataset \n",
    "\n",
    "#import packages\n",
    "import numpy as np\n",
    "import matplotlib.pyplot as plt\n",
    "import csv\n",
    "import pandas as pd\n",
    "\n",
    "##View the Pandas methods available We will use read_csv.\n",
    "print(dir(pd))                                                       # Printing contents of the Pandas package\n",
    "\n",
    "##import data in pandas dataframe object named df\n",
    "df=pd.read_csv('../Resources/datasets/COVID.csv')                    #loading CSV file into Pandas dataframe\n",
    "\n",
    "#Print attributes and methods of df we will be using sort and head\n",
    "#print(dir(df))\n",
    "\n",
    "#View the headers of the dataframe to see what is in it.\n",
    "#print(df.head())                                                    # Optional: View all headers                      \n",
    "\n",
    "# View or Create a series\n",
    "#print(df['Tweet Content'])\n",
    "\n",
    "#Sort Dataframe\n",
    "sorted_data = df.sort_values(by=['Likes Received'], ascending=False) #Sorting data by most to least Likes Received\n",
    "#print(sorted_data['Likes Received'])                                # Optional: View number of likes\n",
    "\n",
    "#Create Sorted Series\n",
    "most_liked_tweets = sorted_data['Tweet Content']                     #Selecting the Tweets based on the number of likes\n",
    "#print(most_liked_tweets)\n",
    "\n",
    "\n",
    "#The Top 10 are Please retweet....\n",
    "#               Dear @DCgov\n",
    "#               In the face of #COVID19\n",
    "#...\n"
   ]
  },
  {
   "cell_type": "code",
   "execution_count": 4,
   "metadata": {},
   "outputs": [
    {
     "name": "stdout",
     "output_type": "stream",
     "text": [
      "Tweet Type\n",
      "ReTweet    45291\n",
      "Reply       1135\n",
      "Tweet      13734\n",
      "dtype: int64\n"
     ]
    }
   ],
   "source": [
    "# Categorize as Tweet, Retweets, or Replys Answer Key\n",
    "\n",
    "#Step 1 Import Libraries\n",
    "import numpy as np\n",
    "import matplotlib.pyplot as plt\n",
    "import csv\n",
    "import pandas as pd\n",
    "\n",
    "#Step 2 Import Data\n",
    "df=pd.read_csv('../Resources/datasets/COVID.csv')  \n",
    "\n",
    "#Step 3 Group dataframe\n",
    "name_of_dataframe_group = df.groupby(['Tweet Type'])           #group categorical data\n",
    "\n",
    "#Step 4 #Print number of elements of each group\n",
    "print(name_of_dataframe_group.size())\n",
    "\n",
    "#Conclude that most tweets from the dataset were retweets \n",
    "#instead of actual tweeets or replys\n"
   ]
  },
  {
   "cell_type": "code",
   "execution_count": 9,
   "metadata": {},
   "outputs": [
    {
     "data": {
      "text/plain": [
       "Text(0.5, 0, 'Times Used')"
      ]
     },
     "execution_count": 9,
     "metadata": {},
     "output_type": "execute_result"
    },
    {
     "data": {
      "image/png": "[encoded data removed]",
      "text/plain": [
       "<Figure size 432x288 with 1 Axes>"
      ]
     },
     "metadata": {
      "needs_background": "light"
     },
     "output_type": "display_data"
    }
   ],
   "source": [
    "#Count the number of times a hastag appears \n",
    "\n",
    "#Step 1 Import Libraries\n",
    "import numpy as np\n",
    "import matplotlib.pyplot as plt\n",
    "import csv\n",
    "import pandas as pd\n",
    "\n",
    "#Step 2 Import Data\n",
    "df=pd.read_csv('../Resources/datasets/COVID.csv') \n",
    "\n",
    "#Step 3Select Tweet Content\n",
    "tweet_content = df['Tweet Content']\n",
    "\n",
    "#Step 4 Parse for hashtags\n",
    "hashtags = tweet_content.str.findall(r'#.*?(?=\\s|$)').explode()\n",
    "\n",
    "#Step 5 Get top 10 \n",
    "top_10_hashtags=hashtags.value_counts().head(10)\n",
    "\n",
    "#Make figure with pd.DataFrame.plot and Matplotlib.Pyplot\n",
    "top_10_hashtags.plot.barh()\n",
    "plt.gca().invert_yaxis()\n",
    "plt.gca().set_title(\"Twitter Hashtags\")\n",
    "plt.gca().set_xlabel('Times Used')\n"
   ]
  },
  {
   "cell_type": "code",
   "execution_count": 14,
   "metadata": {},
   "outputs": [
    {
     "data": {
      "text/plain": [
       "(array([0, 1, 2]), <a list of 3 Text xticklabel objects>)"
      ]
     },
     "execution_count": 14,
     "metadata": {},
     "output_type": "execute_result"
    },
    {
     "data": {
      "image/png": "[encoded data removed]",
      "text/plain": [
       "<Figure size 432x288 with 1 Axes>"
      ]
     },
     "metadata": {
      "needs_background": "light"
     },
     "output_type": "display_data"
    }
   ],
   "source": [
    "#Word Processing -- Tracking views with time\n",
    "\n",
    "#Step 1 Import Libraries\n",
    "import numpy as np\n",
    "import matplotlib.pyplot as plt\n",
    "import csv\n",
    "import pandas as pd\n",
    "\n",
    "#Step 2 Import Data\n",
    "df=pd.read_csv('../Resources/datasets/COVID.csv') \n",
    "\n",
    "#Step 3 Select Time & Impression Series\n",
    "time_data =df['Tweet Posted Time (UTC)']\n",
    "\n",
    "\n",
    "# Step 4 Create month Series\n",
    "df['Month'] = pd.to_datetime(df['Tweet Posted Time (UTC)']).dt.strftime('%Y-%m')\n",
    "#print(df) View new column\n",
    "\n",
    "#sum up all the views on each date\n",
    "month_totals = df.groupby(['Month']).sum()\n",
    "\n",
    "#Step 6 Plot\n",
    "month_totals.plot.bar(y=[\"Likes Received\", \"Retweets Received\"])\n",
    "plt.xticks(rotation=0)\n",
    "#plt.gca().set_yscale('log')"
   ]
  },
  {
   "cell_type": "code",
   "execution_count": 6,
   "metadata": {},
   "outputs": [
    {
     "name": "stdout",
     "output_type": "stream",
     "text": [
      "0        11\n",
      "1        11\n",
      "2        11\n",
      "3        11\n",
      "4        11\n",
      "         ..\n",
      "60155     4\n",
      "60156    21\n",
      "60157    21\n",
      "60158    18\n",
      "60159    23\n",
      "Name: Hour_EST, Length: 60160, dtype: int64\n"
     ]
    },
    {
     "data": {
      "text/plain": [
       "(array([ 0,  1,  2,  3,  4,  5,  6,  7,  8,  9, 10, 11, 12, 13, 14, 15, 16,\n",
       "        17, 18, 19, 20, 21, 22, 23]), <a list of 24 Text xticklabel objects>)"
      ]
     },
     "execution_count": 6,
     "metadata": {},
     "output_type": "execute_result"
    },
    {
     "data": {
      "image/png": "[encoded data removed]",
      "text/plain": [
       "<Figure size 432x288 with 1 Axes>"
      ]
     },
     "metadata": {
      "needs_background": "light"
     },
     "output_type": "display_data"
    }
   ],
   "source": [
    "#Tweets likes by hour\n",
    "#Word Processing -- Tracking views with time\n",
    "import numpy as np\n",
    "import matplotlib.pyplot as plt\n",
    "import csv\n",
    "import pandas as pd\n",
    "\n",
    "#import time and view data\n",
    "Path = '../Resources/datasets/'\n",
    "df=pd.read_csv(Path + 'COVID.csv')\n",
    "time_data =df['Tweet Posted Time (UTC)']\n",
    "\n",
    "\n",
    "#Adding a new hour column\n",
    "df['Hour'] = pd.to_datetime(df['Tweet Posted Time (UTC)']).dt.strftime('%H')\n",
    "df['Hour_EST'] = (pd.to_numeric(df['Hour'] ) -4) % 24\n",
    "\n",
    "#sum up all the views on each date\n",
    "hour_totals = df.groupby(['Hour']).sum()\n",
    "#hour_totals = df.groupby(['Hour_EST']).sum()\n",
    "\n",
    "#Plot\n",
    "hour_totals.plot.bar(y=[\"Likes Received\", \"Retweets Received\"])\n",
    "plt.xticks(rotation=0)"
   ]
  }
 ],
 "metadata": {
  "kernelspec": {
   "display_name": "Python 3",
   "language": "python",
   "name": "python3"
  },
  "language_info": {
   "codemirror_mode": {
    "name": "ipython",
    "version": 3
   },
   "file_extension": ".py",
   "mimetype": "text/x-python",
   "name": "python",
   "nbconvert_exporter": "python",
   "pygments_lexer": "ipython3",
   "version": "3.7.0"
  }
 },
 "nbformat": 4,
 "nbformat_minor": 2
}
