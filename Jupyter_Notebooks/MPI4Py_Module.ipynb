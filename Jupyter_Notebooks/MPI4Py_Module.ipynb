{
 "cells": [
  {
   "cell_type": "code",
   "execution_count": null,
   "metadata": {},
   "outputs": [],
   "source": []
  },
  {
   "cell_type": "markdown",
   "metadata": {},
   "source": [
    "# Parallel Computing With MPI4Py\n",
    "## Overview\n",
    "<p>\n",
    "Parallel computing is used to increase performance and decrease the overall time to solution. When parallel computing libraries are used, they can reduce the need to write code that explicitly interacts with the hardware. \n",
    "<br><br>\n",
    "In this example, we will write two simple MPI programs. The first program is a hello world program where each process will print 'hello' and print its ID number.   \n",
    "    \n",
    "<img src=\"../Resources/media_assets/HPC_Schematic.png\" width=800 height=400/>\n",
    "<center> A schematic of a parallel system <br><br></center>\n",
    "An actual parallel computing system consists of multiple computers (nodes), with each node containing one or multiple CPUs. Modern CPUs have multiple cores. Computing in parallel can be done across multiple nodes, across multiple cores, or a combination of both.\n",
    "\n",
    "    \n",
    "\n",
    "There are several libraries used for parallel computing. In this module we will use mpi4py, which is an python mpi implementation built on top of MPICH. The Message Passing Interface  (MPI) is a message passing standard that allows programs to distribute instructions (messages) amongst cores or separate nodes. The goal of using parallel computing is to reduce the computation time sot that a user arrives at a solution as fast as possible. Parallel computing isn't used for most daily and routine tasks. Instead, parallel computing is often reserved for computations that can require days, weeks, and even months to complete. Additionally, some problems are too large for standard problems and they are bounded by the memory available. In this case, a form of parallel computing, called distributed computing, is needed to alleviate the requirements of a single machine. </p> \n",
    "\n",
    "## Agenda\n",
    "- Import Parallel Libraries\n",
    "- Write a Hello World Script\n",
    "- Initialize communication\n",
    "- Write a program that performs and operation in parallel\n",
    "\n",
    "## Libraries Used\n",
    "- **Numpy** - A package for scientific computing with Python\n",
    "- **MPI4Py** - A python implementation of the MPI standard\n",
    "- **Matplotlib** - A Python library for creating visualizations\n",
    "\n",
    "\n",
    "## Instructions for Running Code\n",
    "Due to system configuration of Stampede2, we will write the code in this Jupyter Notebook. When we run the code, we will export the code to a Python file, and run the code in parallel via an interactive session with more cores or nodes. \n",
    "<br>\n",
    "The following lines need to be executed in the terminal to write the code. \n",
    "-  idev -p normal -N 1 -n 32 -m 60\n",
    "-  mpirun -n #nuber_of_processes python3 filename.py"
   ]
  },
  {
   "cell_type": "code",
   "execution_count": 3,
   "metadata": {
    "collapsed": true
   },
   "outputs": [],
   "source": [
    "\"\"\"Section 1 - Hello World \n",
    "In this example, we will write a parallel script that prints to the terminal.\n",
    "What separates this from other Python files is that when the code is executed, \n",
    "the code is copied to other nodes and run. When completed it then communicates \n",
    "with the 'head node' and displays the result of each node if inclined. \"\"\" \n",
    "\n",
    "#Import modules \n",
    "from mpi4py import MPI\n",
    "import numpy as np\n",
    "import time\n",
    "\n",
    "#Creating communication, size, and rank object\n",
    "comm = MPI.COMM_WORLD\n",
    "size = comm.Get_size()\n",
    "rank = comm.Get_rank()\n",
    "\n",
    "print('Hello')\n",
    "#print('Hello, I am process', rank+1, 'of', size)"
   ]
  },
  {
   "cell_type": "markdown",
   "metadata": {},
   "source": [
    "## Questions\n",
    "What does the output look like in the terminal?<br>\n",
    "Can you explain why the output takes this form?<br>\n",
    "Run the program a few more times. Does the output change? If so, why?"
   ]
  },
  {
   "cell_type": "code",
   "execution_count": 2,
   "metadata": {},
   "outputs": [],
   "source": [
    "\"\"\"Section 2 - Dividing an array \n",
    "In this section we will create an array divide it evenly amongst the \n",
    "number of processes and then sum the array\"\"\" \n",
    "from mpi4py import MPI\n",
    "import numpy as np\n",
    "\n",
    "#Creating communication, size, and rank object\n",
    "comm = MPI.COMM_WORLD\n",
    "size = comm.Get_size()\n",
    "rank = comm.Get_rank()\n",
    "\n",
    "#Create an N-dimensional list\n",
    "N = 50000000 #50-million entries\n",
    "array = np.ndarray.tolist(np.arange(N+1))\n",
    "\n",
    "# Write code to accomplish the task\n",
    "\n"
   ]
  },
  {
   "cell_type": "code",
   "execution_count": 3,
   "metadata": {},
   "outputs": [
    {
     "name": "stdout",
     "output_type": "stream",
     "text": [
      "My array contains elements  1 to  50000001\n"
     ]
    }
   ],
   "source": [
    "#Solution\n",
    "start_index = int(N * rank / size + 1)\n",
    "end_index   = int(N * (rank +1)  / size) + 1\n",
    "\n",
    "print('My array contains elements ', start_index, 'to ', end_index)\n",
    "#partial_sum = sum(array[start_index:end_index])"
   ]
  },
  {
   "cell_type": "code",
   "execution_count": null,
   "metadata": {
    "collapsed": true
   },
   "outputs": [],
   "source": [
    "\"\"\"Section 3 - Completing the program and timing the results \n",
    "In this section we will create an array divide it evenly amongst the \n",
    "number of processes and then sum the array\"\"\" \n",
    "from mpi4py import MPI\n",
    "import numpy as np\n",
    "import time\n",
    "\n",
    "#Creating communication, size, and rank object\n",
    "comm = MPI.COMM_WORLD\n",
    "size = comm.Get_size()\n",
    "rank = comm.Get_rank()\n",
    "\n",
    "#Create an N-dimensional list\n",
    "N = 50000000\n",
    "array = np.ndarray.tolist(np.arange(N+1))\n",
    "\n",
    "#Solution\n",
    "start_index = int(N * rank / size + 1)\n",
    "end_index   = int(N * (rank +1)  / size) + 1\n",
    "partial_sum = sum(array[start_index:end_index])\n",
    "\n",
    "#Start timing\n",
    "init_time = time.time()  \n",
    "\n",
    "#\n",
    "if rank!= 0:\n",
    "        comm.send(partial_sum,dest=0,tag=rank)\n",
    "        comm.send((time.time() - init_time), dest = 0, tag = size+rank)\n",
    "\n",
    "else:\n",
    "        data_received = np.ndarray.tolist(np.arange(1,size+1))\n",
    "        time_received = np.ndarray.tolist(np.arange(1,size+1))\n",
    "\n",
    "        for i in list(range(1,size)):\n",
    "                data_received[i] = comm.recv(source = i, tag = i)\n",
    "                time_received[i] = comm.recv(source = i, tag = size+i)\n",
    "        \n",
    "        data_received[0] = partial_sum\n",
    "        time_received[0] = time.time()-init_time\n",
    "\n",
    "        print('Your array is ', data_received)\n",
    "        print('The sum of your array is ', sum(data_received))\n",
    "        print('The total time to calculate the sum was', (time.time()-init_time))\n",
    "\n",
    "        for i in list(range(0,size)):\n",
    "                print('Node', i, 'took ', time_received[i], ' seconds')"
   ]
  },
  {
   "cell_type": "markdown",
   "metadata": {
    "collapsed": true
   },
   "source": [
    "## Question\n",
    "How do you think you code will behave if it is run in shared memory vs. distributed memory?"
   ]
  },
  {
   "cell_type": "code",
   "execution_count": 6,
   "metadata": {},
   "outputs": [
    {
     "name": "stdout",
     "output_type": "stream",
     "text": [
      "                1        10       100      1000     10000    100000   1000000\n",
      "1_core   0.000245  0.000362  0.000563  0.002045  0.020071  0.211838  2.016601\n",
      "2_core   0.000690  0.000993  0.001393  0.002884  0.019828  0.188487  1.801538\n",
      "4_core   0.000939  0.001328  0.001853  0.003272  0.018292  0.171079  1.648367\n",
      "8_core   0.001627  0.002232  0.002885  0.004389  0.018700  0.160785  1.525424\n",
      "16_core  0.020951  0.026549  0.032685  0.040526  0.060357  0.206740  1.542025\n",
      "32_core  0.069558  0.071290  0.073004  0.075760  0.107051  0.260913  1.757235\n",
      "48_core  0.202300  0.210956  0.215616  0.226248  0.260350  0.431819  2.049183\n",
      "64_core  0.203358  0.206411  0.209723  0.213686  0.234881  0.464564  2.302283\n"
     ]
    },
    {
     "data": {
      "text/plain": [
       "(0, 6)"
      ]
     },
     "execution_count": 6,
     "metadata": {},
     "output_type": "execute_result"
    },
    {
     "data": {
      "image/png": "[encoded data removed]",
      "text/plain": [
       "<Figure size 432x288 with 1 Axes>"
      ]
     },
     "metadata": {
      "needs_background": "light"
     },
     "output_type": "display_data"
    }
   ],
   "source": [
    "#Viewing benchmarking results\n",
    "\n",
    "import pickle\n",
    "import pandas as pd \n",
    "import matplotlib.pyplot as plt\n",
    "path = '../Resources/datasets/vector_sum/'\n",
    "process_1  = pickle.load(open(path+\"1_process_results.pckl\",'rb'))\n",
    "process_2  = pickle.load(open(path+\"2_process_results.pckl\",'rb'))\n",
    "process_4  = pickle.load(open(path+\"4_process_results.pckl\",'rb'))\n",
    "process_8  = pickle.load(open(path+\"8_process_results.pckl\",'rb'))\n",
    "process_16 = pickle.load(open(path+\"16_process_results.pckl\",'rb'))\n",
    "process_32 = pickle.load(open(path+\"32_process_results.pckl\",'rb'))\n",
    "process_48 = pickle.load(open(path+\"48_process_results.pckl\",'rb'))\n",
    "process_64 = pickle.load(open(path+\"64_process_results.pckl\",'rb'))\n",
    "\n",
    "data = [process_1,\n",
    "        process_2,\n",
    "        process_4,\n",
    "        process_8,\n",
    "        process_16,\n",
    "        process_32,\n",
    "        process_48,\n",
    "        process_64]\n",
    "\n",
    "df = pd.DataFrame(data, \n",
    "                  columns =['1', '10', '100',\n",
    "                            '1000','10000','100000',\n",
    "                            '1000000'], \n",
    "                  dtype = float)\n",
    "df.index = ['1_core','2_core','4_core','8_core','16_core',\n",
    "            '32_core','48_core','64_core']\n",
    "print(df)\n",
    "df=df.transpose()\n",
    "\n",
    "#Plotting figure with pd.DataFrame.plot and Matplotlib.Pyplot  \n",
    "df.plot()\n",
    "plt.gca().set_xlabel('N elements')\n",
    "plt.gca().set_ylabel('Second')\n",
    "plt.gca().set_title('Time to Solution')\n",
    "plt.gca().set_yscale('log')\n",
    "plt.gca().grid(True)\n",
    "plt.gca().set_xlim(0, 6)"
   ]
  },
  {
   "cell_type": "markdown",
   "metadata": {},
   "source": [
    "# Challenge Questions \n",
    "-  Write code that takes the average of the array of numbers in parallel. \n",
    "-  Does it make sense to add additional parallelism?\n",
    "-  How can the above code be optimized?"
   ]
  },
  {
   "cell_type": "markdown",
   "metadata": {},
   "source": [
    "# Estimate the speedup\n",
    "By Amdahl's Law, speedup  is the theoretical execuation of the whole program. Speedup can be calculated by this equation:\n",
    "    \n",
    "\\begin{align*}\n",
    "speedup = \\frac{1}{(1-P) + \\frac{P}{n}}\n",
    "\\end{align*}\n",
    "\n",
    "-  where n is the number of parallel processes or threads\n",
    "-  where P is the fraction of the algorithm that can be made parallel"
   ]
  }
 ],
 "metadata": {
  "kernelspec": {
   "display_name": "Python 3",
   "language": "python",
   "name": "python3"
  },
  "language_info": {
   "codemirror_mode": {
    "name": "ipython",
    "version": 3
   },
   "file_extension": ".py",
   "mimetype": "text/x-python",
   "name": "python",
   "nbconvert_exporter": "python",
   "pygments_lexer": "ipython3",
   "version": "3.7.0"
  }
 },
 "nbformat": 4,
 "nbformat_minor": 4
}
